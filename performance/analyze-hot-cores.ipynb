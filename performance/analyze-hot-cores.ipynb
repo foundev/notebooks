{
 "cells": [
  {
   "cell_type": "markdown",
   "id": "49fa7df9",
   "metadata": {},
   "source": [
    "# ttop for finding hot cores in DSE 6\n",
    "\n",
    "One of the better ways to find threads that are CPU bound in java is the ttop command from the [jvm-tools project under sjk-core ](https://github.com/aragozin/jvm-tools/blob/master/sjk-core/docs/TTOP.md). DataStax Enterprise already [ships this tooling with nodetool](https://docs.datastax.com/en/dse/6.8/dse-admin/datastax_enterprise/tools/nodetool/toolsSjk.html) so we can use it to diagnose problems with cores that go hot where a single thread dominates. Since cores rarely go hot from a single process in since the release DSE 6.8.7 it maybe less useful in those versions, however in all previous versions of DSE 6.X this is often necessary and can indicate if an upgrade to the latest 6.8 will fix their issue or not.\n"
   ]
  },
  {
   "cell_type": "code",
   "execution_count": 11,
   "id": "9bd69843",
   "metadata": {},
   "outputs": [],
   "source": [
    "example_ttop_output = '''\n",
    "2021-01-11T06:00:00.000+0000 Process summary \n",
    "  process cpu=1201.12%\n",
    "  application cpu=124.14% (user=124.12% sys=45.12%)\n",
    "  other: cpu=999.12% \n",
    "  thread count: 124\n",
    "  heap allocation rate 931mb/s\n",
    "[021901] user= 6.79% sys= 4.81% alloc=   12mb/s - RMI TCP Connection(1111)-127.0.0.1\n",
    "[000052] user=11.88% sys=-0.76% alloc= 1555kb/s - CoreThread-4\n",
    "[000059] user= 6.79% sys= 2.13% alloc=  4074b/s - ParkedThreadsMonitor\n",
    "[000037] user= 6.79% sys= 1.38% alloc=   14mb/s - CoreThread-9\n",
    "[000053] user= 6.79% sys= 0.97% alloc=   13mb/s - CoreThread-5\n",
    "[000041] user= 6.79% sys= 0.71% alloc=   12mb/s - CoreThread-3\n",
    "\n",
    "\n",
    "2021-01-11T06:00:01.000+0000 Process summary \n",
    "  process cpu=124.12%\n",
    "  application cpu=124.12% (user=124.71% sys=12.29%)\n",
    "  other: cpu=19.07% \n",
    "  thread count: 144\n",
    "  heap allocation rate 94mb/s\n",
    "[000052] user=95.05% sys= 4.12% alloc=     0b/s - CoreThread-2\n",
    "[000059] user= 4.12% sys= 3.24% alloc=  2485b/s - ParkedThreadsMonitor\n",
    "[021901] user= 3.12% sys= 1.23% alloc= 1345kb/s - RMI TCP Connection(1111)-127.0.0.1\n",
    "[000028] user= 2.12% sys=-2.33% alloc= 1234kb/s - CoreThread-9\n",
    "[000599] user= 0.01% sys= 3.19% alloc= 1234kb/s - MessagingService-Incoming-/192.168.1.2\n",
    "[000029] user= 2.14% sys=-1.29% alloc= 1244kb/s - CoreThread-3\n",
    "\n",
    "\n",
    "\n",
    "2021-01-11T06:00:02.000+0000 Process summary \n",
    "  process cpu=124.12%\n",
    "  application cpu=124.12% (user=142.12% sys=34.12%)\n",
    "  other: cpu=1.98% \n",
    "  thread count: 134\n",
    "  heap allocation rate 114mb/s\n",
    "[000009] user=95.72% sys= 3.74% alloc=     0b/s - CoreThread-4\n",
    "[000002] user=38.29% sys=19.56% alloc=  160mb/s - RMI TCP Connection(1111)-127.0.0.1\n",
    "[000008] user= 7.29% sys= 2.13% alloc=   729b/s - ParkedThreadsMonitor\n",
    "[000004] user= 4.56% sys= 2.54% alloc= 6128kb/s - JMX server connection timeout 1244\n",
    "[000001] user= 4.56% sys= 1.76% alloc= 8945kb/s - RMI TCP Connection(1112)-127.0.0.1\n",
    "[000003] user= 0.91% sys=-0.23% alloc= 1327kb/s - RMI TCP Connection(1113)-127.0.0.1\n",
    "\n",
    "\n",
    "\n",
    "2021-01-11T06:00:03.000+0000 Process summary \n",
    "  process cpu=244.23%\n",
    "  application cpu=149.07% (user=124.80% sys=-21.14%)\n",
    "  other: cpu=89.41% \n",
    "  thread count: 124\n",
    "  heap allocation rate 100mb/s\n",
    "[000052] user=91.57% sys= 5.46% alloc=   953b/s - CoreThread-4\n",
    "[022318] user=88.89% sys= 5.76% alloc=   44mb/s - RMI TCP Connection(idle)\n",
    "[000059] user= 6.22% sys= 1.59% alloc=     0b/s - ParkedThreadsMonitor\n",
    "[021901] user= 4.45% sys= 2.48% alloc= 8713kb/s - RMI TCP Connection(1111)-127.0.0.1\n",
    "[017686] user= 0.00% sys= 0.26% alloc=  616kb/s - RMI TCP Connection(1113)-127.0.0.1\n",
    "[000025] user= 0.00% sys= 0.16% alloc=   84kb/s - ScheduledTasks:1\n",
    "\n",
    "\n",
    "2021-01-11T06:00:04.000+0000 Process summary \n",
    "  process cpu=340.24%\n",
    "  application cpu=342.13% (user=241.30% sys=136.91%)\n",
    "  other: cpu=-27.97% \n",
    "  thread count: 134\n",
    "  heap allocation rate 1452mb/s\n",
    "[000053] user=14.52% sys= 4.67% alloc=   28mb/s - CoreThread-5\n",
    "[000041] user=13.61% sys= 5.13% alloc=   31mb/s - CoreThread-3\n",
    "[000037] user=13.61% sys= 4.35% alloc=   29mb/s - CoreThread-9\n",
    "[000042] user=12.70% sys= 5.09% alloc=   27mb/s - CoreThread-4\n",
    "[000059] user= 7.26% sys= 9.52% alloc=  4935b/s - ParkedThreadsMonitor\n",
    "[000038] user=10.89% sys= 5.06% alloc=   23mb/s - CoreThread-10\n",
    "\n",
    "\n",
    "2021-01-11T06:00:05.000+0000 Process summary \n",
    "  process cpu=098.49%\n",
    "  application cpu=086.04% (user=044.58% sys=41.46%)\n",
    "  other: cpu=2.45%\n",
    "  thread count: 123\n",
    "  heap allocation rate 193mb/s\n",
    "[000059] user= 8.23% sys= 2.78% alloc=  4726b/s - ParkedThreadsMonitor\n",
    "[000036] user=10.98% sys= 0.42% alloc=   21mb/s - CoreThread-8\n",
    "[000038] user=10.06% sys= 0.23% alloc=   19mb/s - CoreThread-10\n",
    "[000051] user=10.06% sys= 1.32% alloc=   14mb/s - CoreThread-3\n",
    "[000056] user= 7.32% sys= 2.28% alloc=   11mb/s - CoreThread-8\n",
    "[000031] user= 6.40% sys= 3.13% alloc=   37mb/s - CoreThread-6\n",
    "'''"
   ]
  },
  {
   "cell_type": "markdown",
   "id": "b0b8b26d",
   "metadata": {},
   "source": [
    "In the output we see in the second, third and fourth frame near 100% cores which at least indicates that the CPU is nearly fully busy that entire second and is not able to respond much to other requests. \n",
    "\n",
    "* 2nd frame: `[000052] user=95.05% sys= 4.12% alloc=     0b/s - CoreThread-2`\n",
    "* 3rd frame: `[000009] user=95.72% sys= 3.74% alloc=     0b/s - CoreThread-4`\n",
    "* 4th frame: ```[000052] user=91.57% sys= 5.46% alloc=   953b/s - CoreThread-4\n",
    "[022318] user=88.89% sys= 5.76% alloc=   44mb/s - RMI TCP Connection(idle)```\n",
    "\n",
    "At the same time on these clusters we have relatively light CPU usage compared to total available capacity. In this case, the servers had around 16 real CPUs and 32 threads so in theory there should be plenty of CPU available to process request:\n",
    "\n",
    "* 2nd frame ``` process cpu=124.12%\n",
    "  application cpu=124.12% (user=124.71% sys=12.29%)\n",
    "  other: cpu=19.07% ```\n",
    "* 3rd frame ```process cpu=124.12%\n",
    "  application cpu=124.12% (user=142.12% sys=34.12%)\n",
    "  other: cpu=1.98% ```\n",
    "* 4th frame ``` process cpu=244.23%\n",
    "  application cpu=149.07% (user=124.80% sys=-21.14%)\n",
    "  other: cpu=89.41% ```\n",
    "  \n",
    "In effect, most of the of the work is residing on one or two cores at the same time. In the case of these clusters they were dropping mutations frequently despite the total CPU usage and disk IO remaining very low. The following code can be used to graph their issue.\n",
    "\n",
    "The follow cell will show us a time series of how often this is happening by frame:\n",
    "  "
   ]
  },
  {
   "cell_type": "code",
   "execution_count": 12,
   "id": "72a0555a",
   "metadata": {},
   "outputs": [
    {
     "data": {
      "text/html": [
       "<div>\n",
       "<style scoped>\n",
       "    .dataframe tbody tr th:only-of-type {\n",
       "        vertical-align: middle;\n",
       "    }\n",
       "\n",
       "    .dataframe tbody tr th {\n",
       "        vertical-align: top;\n",
       "    }\n",
       "\n",
       "    .dataframe thead th {\n",
       "        text-align: right;\n",
       "    }\n",
       "</style>\n",
       "<table border=\"1\" class=\"dataframe\">\n",
       "  <thead>\n",
       "    <tr style=\"text-align: right;\">\n",
       "      <th></th>\n",
       "      <th>time</th>\n",
       "      <th>hot</th>\n",
       "    </tr>\n",
       "  </thead>\n",
       "  <tbody>\n",
       "    <tr>\n",
       "      <th>0</th>\n",
       "      <td>2021-01-11 06:00:00+00:00</td>\n",
       "      <td>0</td>\n",
       "    </tr>\n",
       "    <tr>\n",
       "      <th>1</th>\n",
       "      <td>2021-01-11 06:00:01+00:00</td>\n",
       "      <td>1</td>\n",
       "    </tr>\n",
       "    <tr>\n",
       "      <th>2</th>\n",
       "      <td>2021-01-11 06:00:02+00:00</td>\n",
       "      <td>1</td>\n",
       "    </tr>\n",
       "    <tr>\n",
       "      <th>3</th>\n",
       "      <td>2021-01-11 06:00:03+00:00</td>\n",
       "      <td>2</td>\n",
       "    </tr>\n",
       "    <tr>\n",
       "      <th>4</th>\n",
       "      <td>2021-01-11 06:00:04+00:00</td>\n",
       "      <td>0</td>\n",
       "    </tr>\n",
       "  </tbody>\n",
       "</table>\n",
       "</div>"
      ],
      "text/plain": [
       "                       time  hot\n",
       "0 2021-01-11 06:00:00+00:00    0\n",
       "1 2021-01-11 06:00:01+00:00    1\n",
       "2 2021-01-11 06:00:02+00:00    1\n",
       "3 2021-01-11 06:00:03+00:00    2\n",
       "4 2021-01-11 06:00:04+00:00    0"
      ]
     },
     "execution_count": 12,
     "metadata": {},
     "output_type": "execute_result"
    }
   ],
   "source": [
    "from matplotlib import pyplot as plt \n",
    "import pandas as pd\n",
    "import re\n",
    "import dateutil\n",
    "\n",
    "current_date = None\n",
    "threads_over_90 = {}\n",
    "cpu_regex = re.compile(r\"\\[.*\\] user=\\s*?(?P<user>\\-?[0-9]*.[0-9][0-9])% sys=\\s*?(?P<sys>\\-?[0-9]*.[0-9][0-9])%.* - (?P<thread>.*)\")\n",
    "date_regex = re.compile(r\"^(?P<date>.{10}T.{17}) Process summary\")\n",
    "\n",
    "for line in example_ttop_output.split(\"\\n\"):\n",
    "    date_match = date_regex.search(line)\n",
    "    thread_match = cpu_regex.search(line)\n",
    "    if date_match:\n",
    "        if current_date is not None and current_date not in threads_over_90:\n",
    "            threads_over_90[current_date] = 0\n",
    "        current_date = dateutil.parser.isoparse(date_match.group(\"date\"))\n",
    "    elif thread_match:\n",
    "        user_cpu = thread_match.group(\"user\")\n",
    "        sys_cpu = thread_match.group(\"sys\")\n",
    "        # find all cpu cores with CPU usage over 90% \n",
    "        total_cpu = float(user_cpu) + float(sys_cpu)\n",
    "        if total_cpu > 89.99:\n",
    "            if current_date in threads_over_90:\n",
    "                # since we already have entries in this time window we just increment by one\n",
    "                threads_over_90[current_date] += 1\n",
    "            else:\n",
    "                # if this time window has no entries at this time go ahead and create one\n",
    "                threads_over_90[current_date] = 1\n",
    "hot_threads_pd = pd.DataFrame(list(threads_over_90.items()), columns=['time','hot'])\n",
    "hot_threads_pd"
   ]
  },
  {
   "cell_type": "markdown",
   "id": "1dc55c92",
   "metadata": {},
   "source": [
    "Now let us put that in a time series so we can observe how many cores are being hit by high cpu"
   ]
  },
  {
   "cell_type": "code",
   "execution_count": 13,
   "id": "73c3b07b",
   "metadata": {},
   "outputs": [
    {
     "data": {
      "image/png": "[encoded data removed]",
      "text/plain": [
       "<Figure size 864x360 with 1 Axes>"
      ]
     },
     "metadata": {
      "needs_background": "light"
     },
     "output_type": "display_data"
    }
   ],
   "source": [
    "\n",
    "plt.figure(figsize=(12,5))\n",
    "plt.xlabel('hot cores by time')\n",
    "\n",
    "ax2 = hot_threads_pd.set_index(\"time\").hot.plot(kind='line', color='black', label=\"hot cores\", grid=True)\n",
    "\n",
    "h2, l2 = ax2.get_legend_handles_labels()\n",
    "\n",
    "plt.legend(h2, l2, loc=2)\n",
    "plt.show()"
   ]
  },
  {
   "cell_type": "markdown",
   "id": "3e5c3d6c",
   "metadata": {},
   "source": [
    "Now we can search for drops and see at what times they are occuring. In the following log see several messages dropped, these are all network drops:"
   ]
  },
  {
   "cell_type": "code",
   "execution_count": 14,
   "id": "180f4c8c",
   "metadata": {},
   "outputs": [],
   "source": [
    "example_system_log = '''INFO  [ScheduledTasks:1] 2021-01-11 05:59:01,984  DroppedMessages.java:156 - MUTATION messages were dropped in the last 5 s: 1 internal and 0 cross node. Mean internal dropped latency: 1231 ms and Mean cross-node dropped latency: 0 ms\n",
    "INFO  [ScheduledTasks:1] 2021-01-11 06:00:06,102  DroppedMessages.java:156 - MUTATION messages were dropped in the last 5 s: 0 internal and 12 cross node. Mean internal dropped latency: 0 ms and Mean cross-node dropped latency: 3232 ms\n",
    "INFO  [ScheduledTasks:1] 2021-01-11 06:00:07,124  DroppedMessages.java:156 - READ_REPAIR messages were dropped in the last 5 s: 0 internal and 3 cross node. Mean internal dropped latency: 0 ms and Mean cross-node dropped latency: 1823 ms\n",
    "INFO  [ScheduledTasks:1] 2021-01-11 06:01:01,984  DroppedMessages.java:156 - MUTATION messages were dropped in the last 5 s: 10 internal and 1 cross node. Mean internal dropped latency: 1231 ms and Mean cross-node dropped latency: 3823 ms\n",
    "'''"
   ]
  },
  {
   "cell_type": "markdown",
   "id": "aad98d4f",
   "metadata": {},
   "source": [
    "Now let us search for drops in the logs with some Python. The following code uses a regex to match on the log messages and pull out the count of messages dropped and the time they happened. It will total up the total number of drops for each time and group them down to the milisecond."
   ]
  },
  {
   "cell_type": "code",
   "execution_count": 15,
   "id": "ba408977",
   "metadata": {},
   "outputs": [
    {
     "data": {
      "text/html": [
       "<div>\n",
       "<style scoped>\n",
       "    .dataframe tbody tr th:only-of-type {\n",
       "        vertical-align: middle;\n",
       "    }\n",
       "\n",
       "    .dataframe tbody tr th {\n",
       "        vertical-align: top;\n",
       "    }\n",
       "\n",
       "    .dataframe thead th {\n",
       "        text-align: right;\n",
       "    }\n",
       "</style>\n",
       "<table border=\"1\" class=\"dataframe\">\n",
       "  <thead>\n",
       "    <tr style=\"text-align: right;\">\n",
       "      <th></th>\n",
       "      <th>time</th>\n",
       "      <th>drops</th>\n",
       "    </tr>\n",
       "  </thead>\n",
       "  <tbody>\n",
       "    <tr>\n",
       "      <th>0</th>\n",
       "      <td>2021-01-11 05:59:01.984</td>\n",
       "      <td>1</td>\n",
       "    </tr>\n",
       "    <tr>\n",
       "      <th>1</th>\n",
       "      <td>2021-01-11 06:00:06.102</td>\n",
       "      <td>12</td>\n",
       "    </tr>\n",
       "    <tr>\n",
       "      <th>2</th>\n",
       "      <td>2021-01-11 06:00:07.124</td>\n",
       "      <td>3</td>\n",
       "    </tr>\n",
       "    <tr>\n",
       "      <th>3</th>\n",
       "      <td>2021-01-11 06:01:01.984</td>\n",
       "      <td>11</td>\n",
       "    </tr>\n",
       "  </tbody>\n",
       "</table>\n",
       "</div>"
      ],
      "text/plain": [
       "                     time  drops\n",
       "0 2021-01-11 05:59:01.984      1\n",
       "1 2021-01-11 06:00:06.102     12\n",
       "2 2021-01-11 06:00:07.124      3\n",
       "3 2021-01-11 06:01:01.984     11"
      ]
     },
     "execution_count": 15,
     "metadata": {},
     "output_type": "execute_result"
    }
   ],
   "source": [
    "import datetime\n",
    "import pandas as pd\n",
    "\n",
    "\n",
    "drop_re = re.compile(r\"INFO  \\[(?P<thread>.*)\\] (?P<date>.{10} .{12}) *(?P<source_file>[^:]*):(?P<source_line>[0-9]*) - (?P<messageType>\\S*) messages were dropped in the last 5 s: (?P<localCount>\\d*) internal and (?P<remoteCount>\\d*) cross node. Mean internal dropped latency: (?P<localLatency>\\d*) ms and Mean cross-node dropped latency: (?P<remoteLatency>\\d*) ms\")\n",
    "\n",
    "drops = {}\n",
    "for line in example_system_log.split(\"\\n\"):\n",
    "    drop_match = drop_re.search(line)\n",
    "    if drop_match:\n",
    "        raw_date = drop_match.group('date')\n",
    "        date = datetime.datetime.strptime(raw_date, \"%Y-%m-%d %H:%M:%S,%f\")\n",
    "        local_drops_raw = drop_match.group('localCount')\n",
    "        local_drops = int(local_drops_raw)\n",
    "        remote_drops_raw = drop_match.group('remoteCount')\n",
    "        remote_drops = int(remote_drops_raw)\n",
    "        total_drops = remote_drops + local_drops\n",
    "        if date in drops:\n",
    "            drops[date] += total_drops\n",
    "        else:\n",
    "            drops[date] = total_drops\n",
    "drops_pd = pd.DataFrame(list(drops.items()), columns=['time','drops'])\n",
    "drops_pd"
   ]
  },
  {
   "cell_type": "code",
   "execution_count": 16,
   "id": "f9133232",
   "metadata": {},
   "outputs": [
    {
     "data": {
      "image/png": "[encoded data removed]",
      "text/plain": [
       "<Figure size 864x360 with 1 Axes>"
      ]
     },
     "metadata": {
      "needs_background": "light"
     },
     "output_type": "display_data"
    }
   ],
   "source": [
    "plt.figure(figsize=(12,5))\n",
    "plt.xlabel('drops laid over time')\n",
    "\n",
    "ax1 = drops_pd.set_index(\"time\").drops.plot(color='blue', label=\"drops\", grid=True)\n",
    "\n",
    "h1, l1 = ax1.get_legend_handles_labels()\n",
    "\n",
    "plt.legend(h1, l1, loc=2)\n",
    "plt.show()"
   ]
  },
  {
   "cell_type": "markdown",
   "id": "0c6c8f78",
   "metadata": {},
   "source": [
    "If we want to overlay the logs with we have a bit of a problem as the ttop windows may not exactly line up with the logs. Let us take a closer look at one of these logs.\n",
    "\n",
    "```INFO  [ScheduledTasks:1] 2021-01-11 06:00:07,124  DroppedMessages.java:156 - READ_REPAIR messages were dropped in the last 5 s: 0 internal and 3 cross node. Mean internal dropped latency: 0 ms and Mean cross-node dropped latency: 1823 ms```\n",
    "\n",
    "First you will note this is only tracking the previous 5 seconds of the log, and only when the drops happened and the only latency you get is an average of 1823ms with 3 messages is a pretty good indication of how long the messages were in queue, but there can sometimes be thousands of dropped messages in this window, so it becomes very difficult to say when is the exact second a given drop occurred.\n",
    "\n",
    "So we will just estimate, everything in the 10 seconds before and after the drop will be considered as connected to a given high CPU event using the following code\n",
    "\n"
   ]
  },
  {
   "cell_type": "code",
   "execution_count": 17,
   "id": "5b6e3f4e",
   "metadata": {},
   "outputs": [
    {
     "data": {
      "text/html": [
       "<div>\n",
       "<style scoped>\n",
       "    .dataframe tbody tr th:only-of-type {\n",
       "        vertical-align: middle;\n",
       "    }\n",
       "\n",
       "    .dataframe tbody tr th {\n",
       "        vertical-align: top;\n",
       "    }\n",
       "\n",
       "    .dataframe thead th {\n",
       "        text-align: right;\n",
       "    }\n",
       "</style>\n",
       "<table border=\"1\" class=\"dataframe\">\n",
       "  <thead>\n",
       "    <tr style=\"text-align: right;\">\n",
       "      <th></th>\n",
       "      <th>time</th>\n",
       "      <th>drops</th>\n",
       "    </tr>\n",
       "  </thead>\n",
       "  <tbody>\n",
       "    <tr>\n",
       "      <th>0</th>\n",
       "      <td>2021-01-11 06:00:06.102</td>\n",
       "      <td>12</td>\n",
       "    </tr>\n",
       "    <tr>\n",
       "      <th>1</th>\n",
       "      <td>2021-01-11 06:00:07.124</td>\n",
       "      <td>3</td>\n",
       "    </tr>\n",
       "  </tbody>\n",
       "</table>\n",
       "</div>"
      ],
      "text/plain": [
       "                     time  drops\n",
       "0 2021-01-11 06:00:06.102     12\n",
       "1 2021-01-11 06:00:07.124      3"
      ]
     },
     "execution_count": 17,
     "metadata": {},
     "output_type": "execute_result"
    }
   ],
   "source": [
    "import numpy as np\n",
    "\n",
    "drops_from_hot_core = {}\n",
    "total_drops_from_hot_core = 0\n",
    "total_drops = 0\n",
    "\n",
    "all_windows_with_high_cpu = [x for x in threads_over_90.keys() if threads_over_90[x] > 0]\n",
    "\n",
    "for time, drop_count in drops.items():\n",
    "    total_drops += drop_count\n",
    "    # search each high cpu event\n",
    "    for high_cpu_time in all_windows_with_high_cpu:\n",
    "        # a quirk of numpy I need to remove the timezone, these are all in UTC so this is ok\n",
    "        diff = np.datetime64(high_cpu_time.replace(tzinfo=None)) - np.datetime64(time)\n",
    "        total_seconds_diff = abs(diff.item().total_seconds())\n",
    "        if  total_seconds_diff < 10.0 :\n",
    "            drops_from_hot_core[time] = drop_count\n",
    "            total_drops_from_hot_core += drop_count\n",
    "            # once we have connected one event we do not need to connect others\n",
    "            break\n",
    "\n",
    "hot_core_pd = pd.DataFrame(list(drops_from_hot_core.items()), columns=['time','drops'])\n",
    "hot_core_pd"
   ]
  },
  {
   "cell_type": "code",
   "execution_count": 18,
   "id": "f6fb44e0",
   "metadata": {},
   "outputs": [
    {
     "data": {
      "image/png": "[encoded data removed]",
      "text/plain": [
       "<Figure size 864x360 with 2 Axes>"
      ]
     },
     "metadata": {
      "needs_background": "light"
     },
     "output_type": "display_data"
    }
   ],
   "source": [
    "\n",
    "from matplotlib import pyplot as plt \n",
    "plt.figure(figsize=(12,5))\n",
    "plt.xlabel('drops laid over time')\n",
    "\n",
    "ax1 = hot_core_pd.set_index(\"time\").drops.plot( color='red',label=\"drops with hot cpu\", grid=True)\n",
    "ax2 = drops_pd.set_index(\"time\").drops.plot(linewidth=0.5, color='blue',secondary_y=True, label=\"drops\", grid=True)\n",
    "\n",
    "h1, l1 = ax1.get_legend_handles_labels()\n",
    "h2, l2 = ax2.get_legend_handles_labels()\n",
    "\n",
    "plt.legend(h1+h2, l1+l2, loc=2)\n",
    "plt.show()"
   ]
  },
  {
   "cell_type": "markdown",
   "id": "5f9d4ae4",
   "metadata": {},
   "source": [
    "You can now easily see which drops were related to hot cores and which ones where not. If you then divide the drops that were hot from the total drops you get the percentage of drops that were due to the single CPU core being busy."
   ]
  },
  {
   "cell_type": "code",
   "execution_count": null,
   "id": "f453b646",
   "metadata": {},
   "outputs": [],
   "source": [
    "\"%.2f percent of drops are from hot cores\" % ((float(total_drops_from_hot_core)/float(total_drops)) * 100.0)"
   ]
  }
 ],
 "metadata": {
  "kernelspec": {
   "display_name": "Python 3",
   "language": "python",
   "name": "python3"
  },
  "language_info": {
   "codemirror_mode": {
    "name": "ipython",
    "version": 3
   },
   "file_extension": ".py",
   "mimetype": "text/x-python",
   "name": "python",
   "nbconvert_exporter": "python",
   "pygments_lexer": "ipython3",
   "version": "3.9.5"
  }
 },
 "nbformat": 4,
 "nbformat_minor": 5
}
